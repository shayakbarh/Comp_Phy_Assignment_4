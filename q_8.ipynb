{
 "cells": [
  {
   "cell_type": "code",
   "execution_count": 7,
   "metadata": {},
   "outputs": [
    {
     "name": "stdout",
     "output_type": "stream",
     "text": [
      "Area of a unit circle = 3.14592\n",
      "\n",
      " Volume of a 10 dim unit sphere = 2.5088\n"
     ]
    }
   ],
   "source": [
    "import numpy as np\n",
    "\n",
    "# function to n dim unit sphere\n",
    "\n",
    "def nSphereVolume(dim):\n",
    "\tn = 100000\n",
    "\tx=[]\n",
    "\n",
    "\tfor i in range(dim):\n",
    "\t\tx.append(np.random.uniform(-1, 1, size = n))\n",
    "\n",
    "\ttotal = 0\n",
    "\tfor i in range(n):\n",
    "\t\tsum1 = 0 \n",
    "\t\tfor j in range(dim):\n",
    "\t\t\tsum1=sum1+x[j][i]**2\n",
    "\t\tif sum1<1:\n",
    "\t\t\ttotal += 1\n",
    "\n",
    "\tvol_box=2**dim\n",
    "\n",
    "\tvol_sphere = (total * vol_box)/n\n",
    "\treturn vol_sphere\n",
    "\n",
    "# calculate and print area of a unit circle\n",
    "print(f\"Area of a unit circle = {nSphereVolume(2)}\")\n",
    "\n",
    "# calculate volume of a 10 dim unit sphere\n",
    "print(f\"\\n Volume of a 10 dim unit sphere = {nSphereVolume(10)}\")"
   ]
  },
  {
   "cell_type": "code",
   "execution_count": null,
   "metadata": {},
   "outputs": [],
   "source": []
  }
 ],
 "metadata": {
  "kernelspec": {
   "display_name": "Python 3",
   "language": "python",
   "name": "python3"
  },
  "language_info": {
   "codemirror_mode": {
    "name": "ipython",
    "version": 3
   },
   "file_extension": ".py",
   "mimetype": "text/x-python",
   "name": "python",
   "nbconvert_exporter": "python",
   "pygments_lexer": "ipython3",
   "version": "3.12.0"
  }
 },
 "nbformat": 4,
 "nbformat_minor": 2
}
