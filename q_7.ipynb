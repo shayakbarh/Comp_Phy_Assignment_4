{
 "cells": [
  {
   "cell_type": "code",
   "execution_count": 14,
   "metadata": {},
   "outputs": [
    {
     "name": "stdout",
     "output_type": "stream",
     "text": [
      "The random numbers in observation 1 are not sufficiently random\n",
      "The random numbers in observation 2 are not sufficiently random\n"
     ]
    }
   ],
   "source": [
    "import numpy as np\n",
    "import scipy\n",
    "\n",
    "p = [1/36, 1/18, 1/12, 1/9, 5/36, 1/6, 5/36, 1/9, 1/12, 1/18, 1/36]\n",
    "\n",
    "n = 144\n",
    "\n",
    "s = np.random.randint(1, high = 7, size = 144) + np.random.randint(1, high = 7, size = 144)\n",
    "\n",
    "# observed counts 1\n",
    "Y1 = [4, 10, 10, 13, 20, 18, 18, 11, 13, 14, 13]\n",
    "\n",
    "# observed counts 2\n",
    "Y2 = [3, 7, 11, 15, 19, 24, 21, 17, 13, 9, 5]\n",
    "\n",
    "\n",
    "# expected count\n",
    "np = [4, 8, 12, 16, 20, 24, 20, 16, 12, 8, 4]\n",
    "\n",
    "# function to calculate v\n",
    "def calculate_v(Y, np):\n",
    "    v = 0\n",
    "    for i in range(len(np)):\n",
    "        v = v + ((Y[i] - np[i])**2)/(np[i])\n",
    "\n",
    "    return v\n",
    "\n",
    "v1 = calculate_v(Y1, np) \n",
    "v2 = calculate_v(Y2, np)\n",
    "\n",
    "#print(v1, v2)\n",
    "\n",
    "k = 10.0 # dof\n",
    "\n",
    "# Probability of V being v1 or above in %\n",
    "p_v1 = (1 -  scipy.stats.chi2.cdf(v1, k)) * 100\n",
    "\n",
    "# Probability of V being v2 or above\n",
    "p_v2 = (1 -  scipy.stats.chi2.cdf(v2, k)) * 100\n",
    "\n",
    "#print(p_v1, p_v2)\n",
    "\n",
    "# function to label the numbers from chi2 test\n",
    "def chi2_test(p):\n",
    "    if p < 1 or p > 99:\n",
    "        return \"not sufficiently random\"\n",
    "    elif (1 <= p < 5) or (95 <= p < 99):\n",
    "        return \"suspect\"\n",
    "    elif (5 <= p < 10) or (90 <= p < 95):\n",
    "        return \"almost suspect\"\n",
    "    elif 10 <= p < 90:\n",
    "        return \"sufficiently random\"\n",
    "    else:\n",
    "        return \"Probability is out of expected range\"\n",
    "    \n",
    "#label the random numbers\n",
    "print(f\"The random numbers in observation 1 are {chi2_test(p_v1)}\")  \n",
    "\n",
    "print(f\"The random numbers in observation 2 are {chi2_test(p_v2)}\")"
   ]
  },
  {
   "cell_type": "code",
   "execution_count": null,
   "metadata": {},
   "outputs": [],
   "source": []
  }
 ],
 "metadata": {
  "kernelspec": {
   "display_name": "Python 3",
   "language": "python",
   "name": "python3"
  },
  "language_info": {
   "codemirror_mode": {
    "name": "ipython",
    "version": 3
   },
   "file_extension": ".py",
   "mimetype": "text/x-python",
   "name": "python",
   "nbconvert_exporter": "python",
   "pygments_lexer": "ipython3",
   "version": "3.12.0"
  }
 },
 "nbformat": 4,
 "nbformat_minor": 2
}
